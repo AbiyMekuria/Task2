{
 "cells": [
  {
   "cell_type": "markdown",
   "id": "06826bf7-c254-4f0e-b904-75191474cb52",
   "metadata": {},
   "source": [
    "# QKN1 - QKN1 Task 2: Coding\n",
    "# Analytics Programming - D598\n",
    "# PRFA — QKN1\n",
    "# A:PYTHON PROGRAM"
   ]
  },
  {
   "cell_type": "code",
   "execution_count": 6,
   "id": "2aac614a-8762-4231-a7eb-19c4640ddedc",
   "metadata": {},
   "outputs": [],
   "source": [
    "# Loading library\n",
    "import numpy as np\n",
    "import pandas as pd\n"
   ]
  },
  {
   "cell_type": "markdown",
   "id": "cf5b0154-7aff-4fd3-8023-db3244eb5633",
   "metadata": {},
   "source": [
    "# Data Loading and Displaying Data"
   ]
  },
  {
   "cell_type": "code",
   "execution_count": 22,
   "id": "d06a9d33-7c33-44c1-8981-7c4815abc97c",
   "metadata": {},
   "outputs": [
    {
     "data": {
      "text/html": [
       "<div>\n",
       "<style scoped>\n",
       "    .dataframe tbody tr th:only-of-type {\n",
       "        vertical-align: middle;\n",
       "    }\n",
       "\n",
       "    .dataframe tbody tr th {\n",
       "        vertical-align: top;\n",
       "    }\n",
       "\n",
       "    .dataframe thead th {\n",
       "        text-align: right;\n",
       "    }\n",
       "</style>\n",
       "<table border=\"1\" class=\"dataframe\">\n",
       "  <thead>\n",
       "    <tr style=\"text-align: right;\">\n",
       "      <th></th>\n",
       "      <th>Business ID</th>\n",
       "      <th>Total Long-term Debt</th>\n",
       "      <th>Total Equity</th>\n",
       "      <th>Debt to Equity</th>\n",
       "      <th>Total Liabilities</th>\n",
       "      <th>Total Revenue</th>\n",
       "      <th>Profit Margin</th>\n",
       "    </tr>\n",
       "    <tr>\n",
       "      <th>Business State</th>\n",
       "      <th></th>\n",
       "      <th></th>\n",
       "      <th></th>\n",
       "      <th></th>\n",
       "      <th></th>\n",
       "      <th></th>\n",
       "      <th></th>\n",
       "    </tr>\n",
       "  </thead>\n",
       "  <tbody>\n",
       "    <tr>\n",
       "      <th>Alabama</th>\n",
       "      <td>1.599117e+09</td>\n",
       "      <td>6.743890e+08</td>\n",
       "      <td>1.441039e+09</td>\n",
       "      <td>0.345473</td>\n",
       "      <td>1.893946e+09</td>\n",
       "      <td>6.968309e+08</td>\n",
       "      <td>0.403732</td>\n",
       "    </tr>\n",
       "    <tr>\n",
       "      <th>Arizona</th>\n",
       "      <td>9.445082e+09</td>\n",
       "      <td>6.508800e+07</td>\n",
       "      <td>5.915300e+07</td>\n",
       "      <td>1.100333</td>\n",
       "      <td>1.109380e+08</td>\n",
       "      <td>2.155800e+08</td>\n",
       "      <td>0.206902</td>\n",
       "    </tr>\n",
       "    <tr>\n",
       "      <th>Arkansas</th>\n",
       "      <td>8.411162e+09</td>\n",
       "      <td>8.960450e+07</td>\n",
       "      <td>1.082420e+08</td>\n",
       "      <td>0.844746</td>\n",
       "      <td>2.138820e+08</td>\n",
       "      <td>4.789090e+08</td>\n",
       "      <td>0.098319</td>\n",
       "    </tr>\n",
       "    <tr>\n",
       "      <th>California</th>\n",
       "      <td>1.063053e+10</td>\n",
       "      <td>3.273964e+07</td>\n",
       "      <td>4.535982e+07</td>\n",
       "      <td>0.169920</td>\n",
       "      <td>8.018100e+07</td>\n",
       "      <td>8.869559e+07</td>\n",
       "      <td>0.287947</td>\n",
       "    </tr>\n",
       "    <tr>\n",
       "      <th>Colorado</th>\n",
       "      <td>9.966963e+09</td>\n",
       "      <td>8.470025e+07</td>\n",
       "      <td>2.007589e+08</td>\n",
       "      <td>0.619971</td>\n",
       "      <td>1.454528e+08</td>\n",
       "      <td>2.486542e+08</td>\n",
       "      <td>0.346033</td>\n",
       "    </tr>\n",
       "  </tbody>\n",
       "</table>\n",
       "</div>"
      ],
      "text/plain": [
       "                 Business ID  Total Long-term Debt  Total Equity  \\\n",
       "Business State                                                     \n",
       "Alabama         1.599117e+09          6.743890e+08  1.441039e+09   \n",
       "Arizona         9.445082e+09          6.508800e+07  5.915300e+07   \n",
       "Arkansas        8.411162e+09          8.960450e+07  1.082420e+08   \n",
       "California      1.063053e+10          3.273964e+07  4.535982e+07   \n",
       "Colorado        9.966963e+09          8.470025e+07  2.007589e+08   \n",
       "\n",
       "                Debt to Equity  Total Liabilities  Total Revenue  \\\n",
       "Business State                                                     \n",
       "Alabama               0.345473       1.893946e+09   6.968309e+08   \n",
       "Arizona               1.100333       1.109380e+08   2.155800e+08   \n",
       "Arkansas              0.844746       2.138820e+08   4.789090e+08   \n",
       "California            0.169920       8.018100e+07   8.869559e+07   \n",
       "Colorado              0.619971       1.454528e+08   2.486542e+08   \n",
       "\n",
       "                Profit Margin  \n",
       "Business State                 \n",
       "Alabama              0.403732  \n",
       "Arizona              0.206902  \n",
       "Arkansas             0.098319  \n",
       "California           0.287947  \n",
       "Colorado             0.346033  "
      ]
     },
     "execution_count": 22,
     "metadata": {},
     "output_type": "execute_result"
    }
   ],
   "source": [
    "\n",
    "df = pd.read_excel(\"/Users/behailu/Desktop/WGU-Workspace/Task2/D598 Data Set.xlsx\")\n",
    "\n",
    "df2 = df.groupby(\"Business State\").mean(numeric_only=True)\n",
    "df2.head()"
   ]
  },
  {
   "cell_type": "markdown",
   "id": "4d08ebc3-ef81-4383-80a0-1761e75189a6",
   "metadata": {},
   "source": [
    "# Calculating Debt to Equity using Total Long-term Debt and Total Equity"
   ]
  },
  {
   "cell_type": "code",
   "execution_count": 27,
   "id": "91fdade2-032a-4534-83c2-3f32e69626c5",
   "metadata": {},
   "outputs": [
    {
     "data": {
      "text/plain": [
       "0    0.935886\n",
       "1    0.341758\n",
       "2    0.107951\n",
       "3    0.421820\n",
       "4    0.084665\n",
       "Name: Debt_to_Equity_Calc, dtype: float64"
      ]
     },
     "execution_count": 27,
     "metadata": {},
     "output_type": "execute_result"
    }
   ],
   "source": [
    "df[\"Debt_to_Equity_Calc\"] = df[\"Total Long-term Debt\"]/df[\"Total Equity\"]\n",
    "df[\"Debt_to_Equity_Calc\"].head()"
   ]
  },
  {
   "cell_type": "markdown",
   "id": "58bae755-2256-4b3a-ad7c-53892eeec4ef",
   "metadata": {},
   "source": [
    "# Creating analyzed data summary"
   ]
  },
  {
   "cell_type": "code",
   "execution_count": 30,
   "id": "f784872b-9b84-48ca-8cb1-c5f891870962",
   "metadata": {},
   "outputs": [
    {
     "data": {
      "text/html": [
       "<div>\n",
       "<style scoped>\n",
       "    .dataframe tbody tr th:only-of-type {\n",
       "        vertical-align: middle;\n",
       "    }\n",
       "\n",
       "    .dataframe tbody tr th {\n",
       "        vertical-align: top;\n",
       "    }\n",
       "\n",
       "    .dataframe thead th {\n",
       "        text-align: right;\n",
       "    }\n",
       "</style>\n",
       "<table border=\"1\" class=\"dataframe\">\n",
       "  <thead>\n",
       "    <tr style=\"text-align: right;\">\n",
       "      <th></th>\n",
       "      <th>Business ID</th>\n",
       "      <th>Business State</th>\n",
       "      <th>Debt_to_Equity_Calc</th>\n",
       "      <th>Profit Margin</th>\n",
       "      <th>Profitability</th>\n",
       "    </tr>\n",
       "  </thead>\n",
       "  <tbody>\n",
       "    <tr>\n",
       "      <th>0</th>\n",
       "      <td>41872013</td>\n",
       "      <td>Kentucky</td>\n",
       "      <td>0.94</td>\n",
       "      <td>0.023663</td>\n",
       "      <td>Profitable</td>\n",
       "    </tr>\n",
       "    <tr>\n",
       "      <th>1</th>\n",
       "      <td>76232013</td>\n",
       "      <td>Iowa</td>\n",
       "      <td>0.34</td>\n",
       "      <td>0.265015</td>\n",
       "      <td>Profitable</td>\n",
       "    </tr>\n",
       "    <tr>\n",
       "      <th>2</th>\n",
       "      <td>160992013</td>\n",
       "      <td>Texas</td>\n",
       "      <td>0.11</td>\n",
       "      <td>0.130413</td>\n",
       "      <td>Profitable</td>\n",
       "    </tr>\n",
       "    <tr>\n",
       "      <th>3</th>\n",
       "      <td>197452013</td>\n",
       "      <td>Delaware</td>\n",
       "      <td>0.42</td>\n",
       "      <td>0.196768</td>\n",
       "      <td>Profitable</td>\n",
       "    </tr>\n",
       "    <tr>\n",
       "      <th>4</th>\n",
       "      <td>241042013</td>\n",
       "      <td>Illinois</td>\n",
       "      <td>0.08</td>\n",
       "      <td>0.168305</td>\n",
       "      <td>Profitable</td>\n",
       "    </tr>\n",
       "    <tr>\n",
       "      <th>...</th>\n",
       "      <td>...</td>\n",
       "      <td>...</td>\n",
       "      <td>...</td>\n",
       "      <td>...</td>\n",
       "      <td>...</td>\n",
       "    </tr>\n",
       "    <tr>\n",
       "      <th>145</th>\n",
       "      <td>14733342013</td>\n",
       "      <td>California</td>\n",
       "      <td>0.17</td>\n",
       "      <td>0.213007</td>\n",
       "      <td>Profitable</td>\n",
       "    </tr>\n",
       "    <tr>\n",
       "      <th>146</th>\n",
       "      <td>14871012013</td>\n",
       "      <td>Maryland</td>\n",
       "      <td>0.20</td>\n",
       "      <td>0.353230</td>\n",
       "      <td>Profitable</td>\n",
       "    </tr>\n",
       "    <tr>\n",
       "      <th>147</th>\n",
       "      <td>14889172013</td>\n",
       "      <td>MInnesota</td>\n",
       "      <td>0.10</td>\n",
       "      <td>0.727563</td>\n",
       "      <td>Profitable</td>\n",
       "    </tr>\n",
       "    <tr>\n",
       "      <th>148</th>\n",
       "      <td>15456542013</td>\n",
       "      <td>Hawaii</td>\n",
       "      <td>0.52</td>\n",
       "      <td>0.348850</td>\n",
       "      <td>Profitable</td>\n",
       "    </tr>\n",
       "    <tr>\n",
       "      <th>149</th>\n",
       "      <td>15528002013</td>\n",
       "      <td>MInnesota</td>\n",
       "      <td>1.18</td>\n",
       "      <td>0.762859</td>\n",
       "      <td>Profitable</td>\n",
       "    </tr>\n",
       "  </tbody>\n",
       "</table>\n",
       "<p>150 rows × 5 columns</p>\n",
       "</div>"
      ],
      "text/plain": [
       "     Business ID Business State  Debt_to_Equity_Calc  Profit Margin  \\\n",
       "0       41872013       Kentucky                 0.94       0.023663   \n",
       "1       76232013           Iowa                 0.34       0.265015   \n",
       "2      160992013          Texas                 0.11       0.130413   \n",
       "3      197452013       Delaware                 0.42       0.196768   \n",
       "4      241042013       Illinois                 0.08       0.168305   \n",
       "..           ...            ...                  ...            ...   \n",
       "145  14733342013     California                 0.17       0.213007   \n",
       "146  14871012013       Maryland                 0.20       0.353230   \n",
       "147  14889172013      MInnesota                 0.10       0.727563   \n",
       "148  15456542013         Hawaii                 0.52       0.348850   \n",
       "149  15528002013      MInnesota                 1.18       0.762859   \n",
       "\n",
       "    Profitability  \n",
       "0      Profitable  \n",
       "1      Profitable  \n",
       "2      Profitable  \n",
       "3      Profitable  \n",
       "4      Profitable  \n",
       "..            ...  \n",
       "145    Profitable  \n",
       "146    Profitable  \n",
       "147    Profitable  \n",
       "148    Profitable  \n",
       "149    Profitable  \n",
       "\n",
       "[150 rows x 5 columns]"
      ]
     },
     "execution_count": 30,
     "metadata": {},
     "output_type": "execute_result"
    }
   ],
   "source": [
    "# Create summary table\n",
    "#Copy and Creating new table with Debt to Equity calculated\n",
    "summary_table = df[[\"Business ID\", \"Business State\", \"Debt_to_Equity_Calc\", \"Profit Margin\"]].copy() \n",
    "\n",
    "summary_table[\"Debt_to_Equity_Calc\"] = summary_table[\"Debt_to_Equity_Calc\"].round(2)\n",
    "#Checking if Profit margin greater than Zero not\n",
    "summary_table[\"Profitability\"] = summary_table[\"Profit Margin\"].apply(\n",
    "    lambda x: \"Profitable\" if x > 0 else \"Not Profitable\"\n",
    ")\n",
    "summary_table"
   ]
  },
  {
   "cell_type": "markdown",
   "id": "af681309-9ab9-4fed-8523-4dd41eae586c",
   "metadata": {},
   "source": [
    "# Saving Result"
   ]
  },
  {
   "cell_type": "code",
   "execution_count": 33,
   "id": "176f8963-d37a-4b95-9c0b-d590230b9666",
   "metadata": {},
   "outputs": [
    {
     "name": "stdout",
     "output_type": "stream",
     "text": [
      "\n",
      "Results saved to business_analysis_results.csv\n"
     ]
    }
   ],
   "source": [
    "## Save results \n",
    "df.to_csv(\"business_analysis_results.csv\", index=False)\n",
    "print(\"\\nResults saved to business_analysis_results.csv\")"
   ]
  },
  {
   "cell_type": "markdown",
   "id": "3b489cce-9b07-447a-8fa8-aa474ca72856",
   "metadata": {},
   "source": [
    "# Work Cited"
   ]
  },
  {
   "cell_type": "markdown",
   "id": "3b8c91a1-9c0d-449e-86d9-be7d43dfb2ba",
   "metadata": {},
   "source": [
    "#https://www.linkedin.com/learning/data-ingestion-with-python/working-in-csv?resume=false&u=2045532\n",
    "\n",
    "\n"
   ]
  },
  {
   "cell_type": "markdown",
   "id": "19ed41e3-3987-4aa7-9b66-b4eda7c12539",
   "metadata": {},
   "source": [
    "#https://research.ebsco.com/c/25xrgu/ebook-viewer/pdf/4tlx4d5mhn/page/pp_53"
   ]
  },
  {
   "cell_type": "markdown",
   "id": "8678e242-0f32-463a-ade4-d299ac855c75",
   "metadata": {},
   "source": [
    "#https://www.linkedin.com/learning/python-for-data-science-essential-training-part-1/filtering-and-selecting?resume=false&u=2045532"
   ]
  },
  {
   "cell_type": "code",
   "execution_count": null,
   "id": "23354b56-16a3-455e-b1d7-95a67e242180",
   "metadata": {},
   "outputs": [],
   "source": []
  }
 ],
 "metadata": {
  "kernelspec": {
   "display_name": "Python 3 (ipykernel)",
   "language": "python",
   "name": "python3"
  },
  "language_info": {
   "codemirror_mode": {
    "name": "ipython",
    "version": 3
   },
   "file_extension": ".py",
   "mimetype": "text/x-python",
   "name": "python",
   "nbconvert_exporter": "python",
   "pygments_lexer": "ipython3",
   "version": "3.8.8"
  }
 },
 "nbformat": 4,
 "nbformat_minor": 5
}
