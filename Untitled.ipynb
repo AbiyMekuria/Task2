{
 "cells": [
  {
   "cell_type": "markdown",
   "id": "06826bf7-c254-4f0e-b904-75191474cb52",
   "metadata": {},
   "source": [
    "# QKN1 - QKN1 Task 2: Coding\n",
    "# Analytics Programming - D598\n",
    "# PRFA — QKN1\n",
    "# A:PYTHON PROGRAM"
   ]
  },
  {
   "cell_type": "code",
   "execution_count": 6,
   "id": "2aac614a-8762-4231-a7eb-19c4640ddedc",
   "metadata": {},
   "outputs": [],
   "source": [
    "# Loading library\n",
    "import numpy as np\n",
    "import pandas as pd\n"
   ]
  },
  {
   "cell_type": "markdown",
   "id": "cf5b0154-7aff-4fd3-8023-db3244eb5633",
   "metadata": {},
   "source": [
    "# Data Loading and Displaying Data"
   ]
  },
  {
   "cell_type": "code",
   "execution_count": 22,
   "id": "d06a9d33-7c33-44c1-8981-7c4815abc97c",
   "metadata": {},
   "outputs": [
    {
     "data": {
      "text/html": [
       "<div>\n",
       "<style scoped>\n",
       "    .dataframe tbody tr th:only-of-type {\n",
       "        vertical-align: middle;\n",
       "    }\n",
       "\n",
       "    .dataframe tbody tr th {\n",
       "        vertical-align: top;\n",
       "    }\n",
       "\n",
       "    .dataframe thead th {\n",
       "        text-align: right;\n",
       "    }\n",
       "</style>\n",
       "<table border=\"1\" class=\"dataframe\">\n",
       "  <thead>\n",
       "    <tr style=\"text-align: right;\">\n",
       "      <th></th>\n",
       "      <th>Business ID</th>\n",
       "      <th>Total Long-term Debt</th>\n",
       "      <th>Total Equity</th>\n",
       "      <th>Debt to Equity</th>\n",
       "      <th>Total Liabilities</th>\n",
       "      <th>Total Revenue</th>\n",
       "      <th>Profit Margin</th>\n",
       "    </tr>\n",
       "    <tr>\n",
       "      <th>Business State</th>\n",
       "      <th></th>\n",
       "      <th></th>\n",
       "      <th></th>\n",
       "      <th></th>\n",
       "      <th></th>\n",
       "      <th></th>\n",
       "      <th></th>\n",
       "    </tr>\n",
       "  </thead>\n",
       "  <tbody>\n",
       "    <tr>\n",
       "      <th>Alabama</th>\n",
       "      <td>1.599117e+09</td>\n",
       "      <td>6.743890e+08</td>\n",
       "      <td>1.441039e+09</td>\n",
       "      <td>0.345473</td>\n",
       "      <td>1.893946e+09</td>\n",
       "      <td>6.968309e+08</td>\n",
       "      <td>0.403732</td>\n",
       "    </tr>\n",
       "    <tr>\n",
       "      <th>Arizona</th>\n",
       "      <td>9.445082e+09</td>\n",
       "      <td>6.508800e+07</td>\n",
       "      <td>5.915300e+07</td>\n",
       "      <td>1.100333</td>\n",
       "      <td>1.109380e+08</td>\n",
       "      <td>2.155800e+08</td>\n",
       "      <td>0.206902</td>\n",
       "    </tr>\n",
       "    <tr>\n",
       "      <th>Arkansas</th>\n",
       "      <td>8.411162e+09</td>\n",
       "      <td>8.960450e+07</td>\n",
       "      <td>1.082420e+08</td>\n",
       "      <td>0.844746</td>\n",
       "      <td>2.138820e+08</td>\n",
       "      <td>4.789090e+08</td>\n",
       "      <td>0.098319</td>\n",
       "    </tr>\n",
       "    <tr>\n",
       "      <th>California</th>\n",
       "      <td>1.063053e+10</td>\n",
       "      <td>3.273964e+07</td>\n",
       "      <td>4.535982e+07</td>\n",
       "      <td>0.169920</td>\n",
       "      <td>8.018100e+07</td>\n",
       "      <td>8.869559e+07</td>\n",
       "      <td>0.287947</td>\n",
       "    </tr>\n",
       "    <tr>\n",
       "      <th>Colorado</th>\n",
       "      <td>9.966963e+09</td>\n",
       "      <td>8.470025e+07</td>\n",
       "      <td>2.007589e+08</td>\n",
       "      <td>0.619971</td>\n",
       "      <td>1.454528e+08</td>\n",
       "      <td>2.486542e+08</td>\n",
       "      <td>0.346033</td>\n",
       "    </tr>\n",
       "  </tbody>\n",
       "</table>\n",
       "</div>"
      ],
      "text/plain": [
       "                 Business ID  Total Long-term Debt  Total Equity  \\\n",
       "Business State                                                     \n",
       "Alabama         1.599117e+09          6.743890e+08  1.441039e+09   \n",
       "Arizona         9.445082e+09          6.508800e+07  5.915300e+07   \n",
       "Arkansas        8.411162e+09          8.960450e+07  1.082420e+08   \n",
       "California      1.063053e+10          3.273964e+07  4.535982e+07   \n",
       "Colorado        9.966963e+09          8.470025e+07  2.007589e+08   \n",
       "\n",
       "                Debt to Equity  Total Liabilities  Total Revenue  \\\n",
       "Business State                                                     \n",
       "Alabama               0.345473       1.893946e+09   6.968309e+08   \n",
       "Arizona               1.100333       1.109380e+08   2.155800e+08   \n",
       "Arkansas              0.844746       2.138820e+08   4.789090e+08   \n",
       "California            0.169920       8.018100e+07   8.869559e+07   \n",
       "Colorado              0.619971       1.454528e+08   2.486542e+08   \n",
       "\n",
       "                Profit Margin  \n",
       "Business State                 \n",
       "Alabama              0.403732  \n",
       "Arizona              0.206902  \n",
       "Arkansas             0.098319  \n",
       "California           0.287947  \n",
       "Colorado             0.346033  "
      ]
     },
     "execution_count": 22,
     "metadata": {},
     "output_type": "execute_result"
    }
   ],
   "source": [
    "\n",
    "df = pd.read_excel(\"/Users/behailu/Desktop/WGU-Workspace/Task2/D598 Data Set.xlsx\")\n",
    "\n",
    "df2 = df.groupby(\"Business State\").mean(numeric_only=True)\n",
    "df2.head()"
   ]
  },
  {
   "cell_type": "markdown",
   "id": "4d08ebc3-ef81-4383-80a0-1761e75189a6",
   "metadata": {},
   "source": [
    "# Calculating Debt to Equity using Total Long-term Debt and Total Equity"
   ]
  },
  {
   "cell_type": "code",
   "execution_count": 27,
   "id": "91fdade2-032a-4534-83c2-3f32e69626c5",
   "metadata": {},
   "outputs": [
    {
     "data": {
      "text/plain": [
       "0    0.935886\n",
       "1    0.341758\n",
       "2    0.107951\n",
       "3    0.421820\n",
       "4    0.084665\n",
       "Name: Debt_to_Equity_Calc, dtype: float64"
      ]
     },
     "execution_count": 27,
     "metadata": {},
     "output_type": "execute_result"
    }
   ],
   "source": [
    "df[\"Debt_to_Equity_Calc\"] = df[\"Total Long-term Debt\"]/df[\"Total Equity\"]\n",
    "df[\"Debt_to_Equity_Calc\"].head()"
   ]
  },
  {
   "cell_type": "markdown",
   "id": "58bae755-2256-4b3a-ad7c-53892eeec4ef",
   "metadata": {},
   "source": [
    "# Creating analyzed data summary"
   ]
  },
  {
   "cell_type": "code",
   "execution_count": null,
   "id": "f784872b-9b84-48ca-8cb1-c5f891870962",
   "metadata": {},
   "outputs": [],
   "source": []
  }
 ],
 "metadata": {
  "kernelspec": {
   "display_name": "Python 3 (ipykernel)",
   "language": "python",
   "name": "python3"
  },
  "language_info": {
   "codemirror_mode": {
    "name": "ipython",
    "version": 3
   },
   "file_extension": ".py",
   "mimetype": "text/x-python",
   "name": "python",
   "nbconvert_exporter": "python",
   "pygments_lexer": "ipython3",
   "version": "3.8.8"
  }
 },
 "nbformat": 4,
 "nbformat_minor": 5
}
